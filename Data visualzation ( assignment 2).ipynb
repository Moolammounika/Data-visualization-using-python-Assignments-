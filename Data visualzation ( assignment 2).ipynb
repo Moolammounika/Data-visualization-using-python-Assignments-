{
 "cells": [
  {
   "cell_type": "markdown",
   "metadata": {},
   "source": [
    "### Que 1"
   ]
  },
  {
   "cell_type": "code",
   "execution_count": 1,
   "metadata": {},
   "outputs": [],
   "source": [
    "#importing the libraries\n",
    "import pandas as pd\n",
    "import numpy as np\n",
    "import matplotlib.pyplot as plt"
   ]
  },
  {
   "cell_type": "markdown",
   "metadata": {},
   "source": [
    "### Creating Dataframe randomly with 10 rows and 4 columns "
   ]
  },
  {
   "cell_type": "code",
   "execution_count": 2,
   "metadata": {},
   "outputs": [],
   "source": [
    "from numpy.random import randn,randint"
   ]
  },
  {
   "cell_type": "code",
   "execution_count": 3,
   "metadata": {},
   "outputs": [],
   "source": [
    "data=pd.DataFrame(randn(10,4),columns=['a','b','c','d'])"
   ]
  },
  {
   "cell_type": "code",
   "execution_count": 4,
   "metadata": {},
   "outputs": [
    {
     "data": {
      "text/html": [
       "<div>\n",
       "<style scoped>\n",
       "    .dataframe tbody tr th:only-of-type {\n",
       "        vertical-align: middle;\n",
       "    }\n",
       "\n",
       "    .dataframe tbody tr th {\n",
       "        vertical-align: top;\n",
       "    }\n",
       "\n",
       "    .dataframe thead th {\n",
       "        text-align: right;\n",
       "    }\n",
       "</style>\n",
       "<table border=\"1\" class=\"dataframe\">\n",
       "  <thead>\n",
       "    <tr style=\"text-align: right;\">\n",
       "      <th></th>\n",
       "      <th>a</th>\n",
       "      <th>b</th>\n",
       "      <th>c</th>\n",
       "      <th>d</th>\n",
       "    </tr>\n",
       "  </thead>\n",
       "  <tbody>\n",
       "    <tr>\n",
       "      <th>0</th>\n",
       "      <td>0.985128</td>\n",
       "      <td>0.260867</td>\n",
       "      <td>0.992355</td>\n",
       "      <td>0.340881</td>\n",
       "    </tr>\n",
       "    <tr>\n",
       "      <th>1</th>\n",
       "      <td>-0.752551</td>\n",
       "      <td>-0.166299</td>\n",
       "      <td>-0.735485</td>\n",
       "      <td>-0.683883</td>\n",
       "    </tr>\n",
       "    <tr>\n",
       "      <th>2</th>\n",
       "      <td>0.424727</td>\n",
       "      <td>-0.242938</td>\n",
       "      <td>-0.437947</td>\n",
       "      <td>-0.758982</td>\n",
       "    </tr>\n",
       "    <tr>\n",
       "      <th>3</th>\n",
       "      <td>0.335925</td>\n",
       "      <td>-1.286105</td>\n",
       "      <td>-0.535889</td>\n",
       "      <td>0.626530</td>\n",
       "    </tr>\n",
       "    <tr>\n",
       "      <th>4</th>\n",
       "      <td>-1.615549</td>\n",
       "      <td>-0.000304</td>\n",
       "      <td>0.407250</td>\n",
       "      <td>1.276226</td>\n",
       "    </tr>\n",
       "    <tr>\n",
       "      <th>5</th>\n",
       "      <td>-1.170983</td>\n",
       "      <td>-1.140046</td>\n",
       "      <td>0.435757</td>\n",
       "      <td>0.069345</td>\n",
       "    </tr>\n",
       "    <tr>\n",
       "      <th>6</th>\n",
       "      <td>-0.465048</td>\n",
       "      <td>0.543703</td>\n",
       "      <td>-1.777010</td>\n",
       "      <td>-0.953506</td>\n",
       "    </tr>\n",
       "    <tr>\n",
       "      <th>7</th>\n",
       "      <td>-0.292281</td>\n",
       "      <td>0.426788</td>\n",
       "      <td>0.412663</td>\n",
       "      <td>1.666151</td>\n",
       "    </tr>\n",
       "    <tr>\n",
       "      <th>8</th>\n",
       "      <td>0.919584</td>\n",
       "      <td>-1.818774</td>\n",
       "      <td>0.849038</td>\n",
       "      <td>-0.387658</td>\n",
       "    </tr>\n",
       "    <tr>\n",
       "      <th>9</th>\n",
       "      <td>0.278189</td>\n",
       "      <td>0.221968</td>\n",
       "      <td>-0.190749</td>\n",
       "      <td>1.230514</td>\n",
       "    </tr>\n",
       "  </tbody>\n",
       "</table>\n",
       "</div>"
      ],
      "text/plain": [
       "          a         b         c         d\n",
       "0  0.985128  0.260867  0.992355  0.340881\n",
       "1 -0.752551 -0.166299 -0.735485 -0.683883\n",
       "2  0.424727 -0.242938 -0.437947 -0.758982\n",
       "3  0.335925 -1.286105 -0.535889  0.626530\n",
       "4 -1.615549 -0.000304  0.407250  1.276226\n",
       "5 -1.170983 -1.140046  0.435757  0.069345\n",
       "6 -0.465048  0.543703 -1.777010 -0.953506\n",
       "7 -0.292281  0.426788  0.412663  1.666151\n",
       "8  0.919584 -1.818774  0.849038 -0.387658\n",
       "9  0.278189  0.221968 -0.190749  1.230514"
      ]
     },
     "execution_count": 4,
     "metadata": {},
     "output_type": "execute_result"
    }
   ],
   "source": [
    "data"
   ]
  },
  {
   "cell_type": "markdown",
   "metadata": {},
   "source": [
    "### Using Bar graph for plotting the data frame"
   ]
  },
  {
   "cell_type": "code",
   "execution_count": 5,
   "metadata": {},
   "outputs": [
    {
     "data": {
      "text/plain": [
       "<matplotlib.legend.Legend at 0x1c0076dc670>"
      ]
     },
     "execution_count": 5,
     "metadata": {},
     "output_type": "execute_result"
    },
    {
     "data": {
      "image/png": "[encoded data removed]",
      "text/plain": [
       "<Figure size 1152x432 with 1 Axes>"
      ]
     },
     "metadata": {
      "needs_background": "light"
     },
     "output_type": "display_data"
    }
   ],
   "source": [
    "data.plot.bar(figsize=(16,6),color=['orange','brown','pink','skyblue'],label = \"a-b-c-d variation\")\n",
    "plt.title(\"Bar graph\")\n",
    "plt.xlabel('columns')\n",
    "plt.ylabel('Random Numbers')\n",
    "plt.legend()"
   ]
  },
  {
   "cell_type": "code",
   "execution_count": null,
   "metadata": {},
   "outputs": [],
   "source": []
  }
 ],
 "metadata": {
  "kernelspec": {
   "display_name": "Python 3",
   "language": "python",
   "name": "python3"
  },
  "language_info": {
   "codemirror_mode": {
    "name": "ipython",
    "version": 3
   },
   "file_extension": ".py",
   "mimetype": "text/x-python",
   "name": "python",
   "nbconvert_exporter": "python",
   "pygments_lexer": "ipython3",
   "version": "3.8.5"
  }
 },
 "nbformat": 4,
 "nbformat_minor": 4
}
